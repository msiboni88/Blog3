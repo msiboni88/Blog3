{
 "cells": [
  {
   "cell_type": "code",
   "execution_count": 1,
   "metadata": {},
   "outputs": [],
   "source": [
    "import pandas as pd\n",
    "import numpy as np\n",
    "\n",
    "import matplotlib.pyplot as plt\n",
    "from sklearn.linear_model import LogisticRegression\n",
    "from sklearn.neighbors import KNeighborsClassifier\n",
    "from sklearn.model_selection import train_test_split\n",
    "from sklearn.model_selection import GridSearchCV\n",
    "\n",
    "%matplotlib inline"
   ]
  },
  {
   "cell_type": "code",
   "execution_count": 2,
   "metadata": {},
   "outputs": [],
   "source": [
    "df = pd.read_csv('../Nailed It Contestants.csv')"
   ]
  },
  {
   "cell_type": "code",
   "execution_count": 3,
   "metadata": {},
   "outputs": [
    {
     "data": {
      "text/plain": [
       "Index(['Name', 'Season', 'Won', 'Embarrassed', 'Gender', 'Age', 'Profession',\n",
       "       'Industry', 'From', 'Region', 'Baking Experience',\n",
       "       'Decorating Experience', 'Goofy', 'Here to Impress Someone',\n",
       "       'Just Married', 'Clumsy', 'Risk Taker', 'Won Round 1', 'Lost Round 1',\n",
       "       'Familiar with Show', 'Dressed Wrong for baking', 'Here for the money',\n",
       "       'Slow'],\n",
       "      dtype='object')"
      ]
     },
     "execution_count": 3,
     "metadata": {},
     "output_type": "execute_result"
    }
   ],
   "source": [
    "df.columns"
   ]
  },
  {
   "cell_type": "code",
   "execution_count": 4,
   "metadata": {},
   "outputs": [],
   "source": [
    "df.columns = df.columns.str.lower().str.replace(' ', '_')"
   ]
  },
  {
   "cell_type": "code",
   "execution_count": 5,
   "metadata": {},
   "outputs": [],
   "source": [
    "# deleting columns I used for reference only in data collection\n",
    "df.drop(['name', 'season', 'profession', 'from'], axis=1, inplace=True)"
   ]
  },
  {
   "cell_type": "code",
   "execution_count": 6,
   "metadata": {},
   "outputs": [
    {
     "name": "stdout",
     "output_type": "stream",
     "text": [
      "58.0% of contestants did not embarass themselves.\n",
      "26.0% of contestants embarassed themselves, but only a little.\n",
      "15.0% of contestants embarassed themselves, A LOT.\n"
     ]
    },
    {
     "data": {
      "text/plain": [
       "embarrassed\n",
       "0    42\n",
       "1    19\n",
       "2    11\n",
       "Name: embarrassed, dtype: int64"
      ]
     },
     "execution_count": 6,
     "metadata": {},
     "output_type": "execute_result"
    }
   ],
   "source": [
    "# Checking count of embarassment levels\n",
    "\n",
    "not_emb = round(df.groupby('embarrassed').embarrassed.count()[0]/df.shape[0]*100)\n",
    "lil_emb = round(df.groupby('embarrassed').embarrassed.count()[1]/df.shape[0]*100)\n",
    "lot_emb = round(df.groupby('embarrassed').embarrassed.count()[2]/df.shape[0]*100)\n",
    "\n",
    "print(f'{not_emb}% of contestants did not embarass themselves.')\n",
    "print(f'{lil_emb}% of contestants embarassed themselves, but only a little.')\n",
    "print(f'{lot_emb}% of contestants embarassed themselves, A LOT.')\n",
    "\n",
    "df.groupby('embarrassed').embarrassed.count()"
   ]
  },
  {
   "cell_type": "code",
   "execution_count": 7,
   "metadata": {},
   "outputs": [],
   "source": [
    "# Creating dummy variables for gender, ade, industry and region\n",
    "\n",
    "# Choosing not to do drop first because I would liek to get an idea of feature engineering to use before \n",
    "# deciding which column to drop\n",
    "df = pd.concat([df.drop('gender', axis=1), pd.get_dummies(df.gender)], axis=1)\n",
    "df = pd.concat([df.drop('age', axis=1), pd.get_dummies(df.age)], axis=1)\n",
    "df = pd.concat([df.drop('industry', axis=1), pd.get_dummies(df.industry)], axis=1)\n",
    "df = pd.concat([df.drop('region', axis=1), pd.get_dummies(df.region)], axis=1)"
   ]
  },
  {
   "cell_type": "code",
   "execution_count": 8,
   "metadata": {},
   "outputs": [],
   "source": [
    "# dropping South America region column because only one contestant is from there\n",
    "df.drop('South America', axis=1, inplace=True)"
   ]
  },
  {
   "cell_type": "code",
   "execution_count": 9,
   "metadata": {},
   "outputs": [
    {
     "data": {
      "text/plain": [
       "won                         0\n",
       "embarrassed                 0\n",
       "baking_experience           0\n",
       "decorating_experience       0\n",
       "goofy                       0\n",
       "here_to_impress_someone     0\n",
       "just_married                0\n",
       "clumsy                      0\n",
       "risk_taker                  0\n",
       "won_round_1                 0\n",
       "lost_round_1                0\n",
       "familiar_with_show          0\n",
       "dressed_wrong_for_baking    0\n",
       "here_for_the_money          0\n",
       "slow                        0\n",
       "Female                      0\n",
       "Male                        0\n",
       "Middle Aged                 0\n",
       "Older                       0\n",
       "Young                       0\n",
       "Arts                        0\n",
       "Communications              0\n",
       "Design                      0\n",
       "Education                   0\n",
       "Entertainment & Tourism     0\n",
       "Food Services               0\n",
       "Healthcare                  0\n",
       "Law Enforcement             0\n",
       "Military                    0\n",
       "Parent                      0\n",
       "Recruiter                   0\n",
       "Sales                       0\n",
       "Social Media                0\n",
       "Student                     0\n",
       "Tech                        0\n",
       "Midwest                     0\n",
       "Northeast                   0\n",
       "Southeast                   0\n",
       "Southwest                   0\n",
       "West                        0\n",
       "dtype: int64"
      ]
     },
     "execution_count": 9,
     "metadata": {},
     "output_type": "execute_result"
    }
   ],
   "source": [
    "df.isnull().sum()"
   ]
  },
  {
   "cell_type": "code",
   "execution_count": 10,
   "metadata": {},
   "outputs": [
    {
     "data": {
      "image/png": "[encoded data removed]",
      "text/plain": [
       "<Figure size 864x576 with 1 Axes>"
      ]
     },
     "metadata": {},
     "output_type": "display_data"
    }
   ],
   "source": [
    "# Creating a bar plot to show if winning or losing the first round helps in the second round\n",
    "plt.figure(figsize=(12, 8), facecolor='lightgrey')\n",
    "ax = plt.subplot(111)\n",
    "ax.bar([1-.4, 2-.4, 3-.4], [df.groupby('won_round_1').won_round_1.count()[1]/df.shape[0]*100,\n",
    "               df[(df.won_round_1 == 0) & (df.lost_round_1 == 0)].shape[0]/df.shape[0]*100,\n",
    "               df.groupby('lost_round_1').lost_round_1.count()[1]/df.shape[0]*100], \n",
    "       width=0.4, color='skyblue', align='center')\n",
    "ax.bar([1, 2, 3], [df.groupby('won_round_1').won.sum()[1]/df.shape[0]*100,\n",
    "           df[(df.won_round_1 == 0) & (df.lost_round_1 == 0)].groupby('won').won.count()[1]/df.shape[0]*100,\n",
    "           df.groupby('lost_round_1').won.sum()[1]/df.shape[0]*100],\n",
    "       width=0.4, color='pink', align='center')\n",
    "ax.set_xlabel('First Round Performance', fontsize=14)\n",
    "ax.set_ylabel('Percent of Contestants', fontsize=14)\n",
    "ax.set_title('Effect of Round 1 Performance on Winning', fontsize=20)\n",
    "plt.xticks(ticks=[.8, 1.8, 2.8], labels=['Won Round 1', 'Neither Won nor Lost Round 1', 'Lost Round 1'])\n",
    "plt.legend(['Percent of All Contestants', 'Percent of Winners'], fontsize=14);\n"
   ]
  },
  {
   "cell_type": "code",
   "execution_count": 166,
   "metadata": {},
   "outputs": [
    {
     "data": {
      "text/plain": [
       "54"
      ]
     },
     "execution_count": 166,
     "metadata": {},
     "output_type": "execute_result"
    }
   ],
   "source": [
    "df['won'][(df.lost_round_1 ==0) & (df.lost_round_1 ==0)].count()"
   ]
  },
  {
   "cell_type": "code",
   "execution_count": 178,
   "metadata": {},
   "outputs": [
    {
     "data": {
      "text/plain": [
       "Text(0, 0.5, 'Percent Chance of \\nWinning Final Round')"
      ]
     },
     "execution_count": 178,
     "metadata": {},
     "output_type": "execute_result"
    },
    {
     "data": {
      "image/png": "[encoded data removed]",
      "text/plain": [
       "<Figure size 1440x576 with 2 Axes>"
      ]
     },
     "metadata": {},
     "output_type": "display_data"
    }
   ],
   "source": [
    "plt.figure(figsize=(20, 8), facecolor='lightgrey')\n",
    "\n",
    "total = df['won'][df.won ==1].sum()\n",
    "\n",
    "ax1 = plt.subplot(121)\n",
    "ax1.pie([round(df['won_round_1'][df.won ==1].sum()/total*100),\n",
    "        round(df['won'][(df.won_round_1 == 0) & (df.lost_round_1 == 0)].sum()/total*100),\n",
    "        round(df['lost_round_1'][df.won ==1].sum()/total*100)], \n",
    "#         labels = [f'Won Round 1, 42%',\n",
    "#                  f'Neither Won Nor Lost Round 1, 25%',\n",
    "#                  f'Lost Round 1, 33% '],\n",
    "        colors = ['skyblue', 'orchid', 'pink']\n",
    "       )\n",
    "ax1.set_title('Percent of Winners from \\nEach Performance Level in Round 1', fontsize=20)\n",
    "ax1.legend(['Won Round 1, 42%', 'Neither Won Nor Lost Round 1, 25%', 'Lost Round 1, 33%'], fontsize=16)\n",
    "\n",
    "ax2 = plt.subplot(122)\n",
    "ax2.set_title('Likelihood of Winning Final Round \\n Based on Round 1 Performance', fontsize=20)\n",
    "ax2.bar([1,2,3], [df['won_round_1'][df.won ==1].sum()/df['won_round_1'][df.won_round_1 ==1].sum()*100,\n",
    "                  df['won'][(df.lost_round_1 ==0) & (df.lost_round_1 ==0)].sum()/df['won'][(df.lost_round_1 ==0) & (df.lost_round_1 ==0)].count()*100,\n",
    "                  df['won'][df.lost_round_1 ==1].sum()/df['lost_round_1'][df.lost_round_1 ==1].sum()*100], \n",
    "        color='skyblue')\n",
    "ax2.set_xlabel('Round 1 Performance', fontsize=16)\n",
    "ax2.set_xticks([1, 2, 3], ['Won Round 1', 'Neither Won Nor \\nLost Round 1', 'Lost Round 1'])\n",
    "ax2.set_ylabel('Percent Chance of \\nWinning Final Round', fontsize=16);"
   ]
  },
  {
   "cell_type": "code",
   "execution_count": null,
   "metadata": {},
   "outputs": [],
   "source": [
    "        labels = [f'Won Round 1 {int(round(df['won_round_1'][df.won ==1].sum()/total*100))}',\n",
    "                 f'Neither Won Nor Lost Round1 {int(round(df['won'][(df.won_round_1 == 0) & (df.lost_round_1 == 0)].sum()/total*100))}',\n",
    "                 f'Lost Round 1 {int(round(df['lost_round_1'][df.won ==1].sum()/total*100))}'],"
   ]
  },
  {
   "cell_type": "code",
   "execution_count": 11,
   "metadata": {},
   "outputs": [
    {
     "data": {
      "text/plain": [
       "Index(['won', 'embarrassed', 'baking_experience', 'decorating_experience',\n",
       "       'goofy', 'here_to_impress_someone', 'just_married', 'clumsy',\n",
       "       'risk_taker', 'won_round_1', 'lost_round_1', 'familiar_with_show',\n",
       "       'dressed_wrong_for_baking', 'here_for_the_money', 'slow', 'female',\n",
       "       'male', 'middle_aged', 'older', 'young', 'arts', 'communications',\n",
       "       'design', 'education', 'entertainment_&_tourism', 'food_services',\n",
       "       'healthcare', 'law_enforcement', 'military', 'parent', 'recruiter',\n",
       "       'sales', 'social_media', 'student', 'tech', 'midwest', 'northeast',\n",
       "       'southeast', 'southwest', 'west'],\n",
       "      dtype='object')"
      ]
     },
     "execution_count": 11,
     "metadata": {},
     "output_type": "execute_result"
    }
   ],
   "source": [
    "df.columns = df.columns.str.lower().str.replace(' ', '_')\n",
    "df.columns"
   ]
  },
  {
   "cell_type": "code",
   "execution_count": 12,
   "metadata": {},
   "outputs": [],
   "source": [
    "# Creating a logistic regression model for whether or not someone embarassed themselves\n",
    "\n",
    "# All variables are dummy variables, so no need to scale data\n",
    "X = df.drop(['won', 'embarrassed', 'won_round_1', 'lost_round_1'], axis=1)\n",
    "y = df.embarrassed\n",
    "\n",
    "X_train, X_test, y_train, y_test = train_test_split(X,\n",
    "                                                    y,\n",
    "                                                    stratify=y,\n",
    "                                                    random_state=42)"
   ]
  },
  {
   "cell_type": "code",
   "execution_count": 13,
   "metadata": {},
   "outputs": [
    {
     "name": "stderr",
     "output_type": "stream",
     "text": [
      "/Users/mags/anaconda3/lib/python3.7/site-packages/sklearn/linear_model/logistic.py:433: FutureWarning: Default solver will be changed to 'lbfgs' in 0.22. Specify a solver to silence this warning.\n",
      "  FutureWarning)\n",
      "/Users/mags/anaconda3/lib/python3.7/site-packages/sklearn/linear_model/logistic.py:460: FutureWarning: Default multi_class will be changed to 'auto' in 0.22. Specify the multi_class option to silence this warning.\n",
      "  \"this warning.\", FutureWarning)\n"
     ]
    },
    {
     "name": "stdout",
     "output_type": "stream",
     "text": [
      "Accuracy Score for train data: 0.8518518518518519\n",
      "Accuracy Score for test data: 0.5\n"
     ]
    },
    {
     "data": {
      "text/plain": [
       "array([0, 0, 1, 0, 0, 0, 0, 2, 0, 2, 0, 0, 0, 0, 0, 2, 1, 0, 0, 0, 0, 2,\n",
       "       0, 0, 1, 0, 0, 0, 2, 0, 0, 1, 0, 0, 0, 0, 1, 0, 0, 0, 1, 0, 0, 0,\n",
       "       0, 0, 1, 0, 1, 1, 2, 0, 0, 2, 0, 2, 0, 0, 0, 0, 1, 0, 0, 0, 1, 0,\n",
       "       0, 0, 1, 0, 2, 0])"
      ]
     },
     "execution_count": 13,
     "metadata": {},
     "output_type": "execute_result"
    }
   ],
   "source": [
    "lr = LogisticRegression()\n",
    "lr.fit(X_train, y_train)\n",
    "\n",
    "print(f'Accuracy Score for train data: {lr.score(X_train, y_train)}')\n",
    "print(f'Accuracy Score for test data: {lr.score(X_test, y_test)}')\n",
    "# not an awesome model..\n",
    "\n",
    "lr.predict(X)"
   ]
  },
  {
   "cell_type": "code",
   "execution_count": 14,
   "metadata": {},
   "outputs": [
    {
     "name": "stdout",
     "output_type": "stream",
     "text": [
      "Fitting 2 folds for each of 8 candidates, totalling 16 fits\n"
     ]
    },
    {
     "name": "stderr",
     "output_type": "stream",
     "text": [
      "[Parallel(n_jobs=2)]: Using backend LokyBackend with 2 concurrent workers.\n"
     ]
    },
    {
     "name": "stdout",
     "output_type": "stream",
     "text": [
      "Accuracy Score for train data: 0.6111111111111112\n",
      "Accuracy Score for test data: 0.3888888888888889\n"
     ]
    },
    {
     "name": "stderr",
     "output_type": "stream",
     "text": [
      "[Parallel(n_jobs=2)]: Done  16 out of  16 | elapsed:    1.3s finished\n"
     ]
    },
    {
     "data": {
      "text/plain": [
       "{'cv': 2,\n",
       " 'error_score': 'raise-deprecating',\n",
       " 'estimator__algorithm': 'auto',\n",
       " 'estimator__leaf_size': 30,\n",
       " 'estimator__metric': 'minkowski',\n",
       " 'estimator__metric_params': None,\n",
       " 'estimator__n_jobs': None,\n",
       " 'estimator__n_neighbors': 5,\n",
       " 'estimator__p': 2,\n",
       " 'estimator__weights': 'uniform',\n",
       " 'estimator': KNeighborsClassifier(algorithm='auto', leaf_size=30, metric='minkowski',\n",
       "            metric_params=None, n_jobs=None, n_neighbors=5, p=2,\n",
       "            weights='uniform'),\n",
       " 'fit_params': None,\n",
       " 'iid': 'warn',\n",
       " 'n_jobs': 2,\n",
       " 'param_grid': {'n_neighbors': [4, 5, 7, 8],\n",
       "  'metric': ['euclidean', 'manhattan']},\n",
       " 'pre_dispatch': '2*n_jobs',\n",
       " 'refit': True,\n",
       " 'return_train_score': False,\n",
       " 'scoring': None,\n",
       " 'verbose': 1}"
      ]
     },
     "execution_count": 14,
     "metadata": {},
     "output_type": "execute_result"
    }
   ],
   "source": [
    "knn = KNeighborsClassifier()\n",
    "\n",
    "knn_params = {\n",
    "    'n_neighbors' : [4, 5, 7, 8],\n",
    "    'metric' : ['euclidean', 'manhattan']\n",
    "}\n",
    "\n",
    "knn_gridsearch = GridSearchCV(\n",
    "    KNeighborsClassifier(),\n",
    "    knn_params,\n",
    "    cv=2,\n",
    "    verbose=1,\n",
    "    return_train_score=False,\n",
    "    n_jobs=2 \n",
    ")\n",
    "\n",
    "knn_gridsearch.fit(X_train, y_train)\n",
    "print(f'Accuracy Score for train data: {knn_gridsearch.score(X_train, y_train)}')\n",
    "print(f'Accuracy Score for test data: {knn_gridsearch.score(X_test, y_test)}')\n",
    "# Less good but about the same as the logistic regression\n",
    "\n",
    "knn_gridsearch.best_estimator_"
   ]
  },
  {
   "cell_type": "code",
   "execution_count": 15,
   "metadata": {},
   "outputs": [],
   "source": [
    "predictions = pd.DataFrame()\n",
    "predictions['actual'] = df.embarrassed\n",
    "predictions['lr1'] = lr.predict(X)\n",
    "predictions['knn1'] = knn_gridsearch.predict(X)"
   ]
  },
  {
   "cell_type": "code",
   "execution_count": 16,
   "metadata": {},
   "outputs": [
    {
     "data": {
      "text/html": [
       "<div>\n",
       "<style scoped>\n",
       "    .dataframe tbody tr th:only-of-type {\n",
       "        vertical-align: middle;\n",
       "    }\n",
       "\n",
       "    .dataframe tbody tr th {\n",
       "        vertical-align: top;\n",
       "    }\n",
       "\n",
       "    .dataframe thead th {\n",
       "        text-align: right;\n",
       "    }\n",
       "</style>\n",
       "<table border=\"1\" class=\"dataframe\">\n",
       "  <thead>\n",
       "    <tr style=\"text-align: right;\">\n",
       "      <th></th>\n",
       "      <th>0</th>\n",
       "      <th>1</th>\n",
       "      <th>2</th>\n",
       "      <th>3</th>\n",
       "      <th>4</th>\n",
       "      <th>5</th>\n",
       "      <th>6</th>\n",
       "      <th>7</th>\n",
       "      <th>8</th>\n",
       "      <th>9</th>\n",
       "      <th>...</th>\n",
       "      <th>62</th>\n",
       "      <th>63</th>\n",
       "      <th>64</th>\n",
       "      <th>65</th>\n",
       "      <th>66</th>\n",
       "      <th>67</th>\n",
       "      <th>68</th>\n",
       "      <th>69</th>\n",
       "      <th>70</th>\n",
       "      <th>71</th>\n",
       "    </tr>\n",
       "  </thead>\n",
       "  <tbody>\n",
       "    <tr>\n",
       "      <th>actual</th>\n",
       "      <td>0</td>\n",
       "      <td>0</td>\n",
       "      <td>1</td>\n",
       "      <td>0</td>\n",
       "      <td>0</td>\n",
       "      <td>2</td>\n",
       "      <td>0</td>\n",
       "      <td>2</td>\n",
       "      <td>0</td>\n",
       "      <td>2</td>\n",
       "      <td>...</td>\n",
       "      <td>0</td>\n",
       "      <td>1</td>\n",
       "      <td>1</td>\n",
       "      <td>0</td>\n",
       "      <td>0</td>\n",
       "      <td>0</td>\n",
       "      <td>1</td>\n",
       "      <td>0</td>\n",
       "      <td>2</td>\n",
       "      <td>1</td>\n",
       "    </tr>\n",
       "    <tr>\n",
       "      <th>lr1</th>\n",
       "      <td>0</td>\n",
       "      <td>0</td>\n",
       "      <td>1</td>\n",
       "      <td>0</td>\n",
       "      <td>0</td>\n",
       "      <td>0</td>\n",
       "      <td>0</td>\n",
       "      <td>2</td>\n",
       "      <td>0</td>\n",
       "      <td>2</td>\n",
       "      <td>...</td>\n",
       "      <td>0</td>\n",
       "      <td>0</td>\n",
       "      <td>1</td>\n",
       "      <td>0</td>\n",
       "      <td>0</td>\n",
       "      <td>0</td>\n",
       "      <td>1</td>\n",
       "      <td>0</td>\n",
       "      <td>2</td>\n",
       "      <td>0</td>\n",
       "    </tr>\n",
       "    <tr>\n",
       "      <th>knn1</th>\n",
       "      <td>0</td>\n",
       "      <td>0</td>\n",
       "      <td>1</td>\n",
       "      <td>0</td>\n",
       "      <td>0</td>\n",
       "      <td>0</td>\n",
       "      <td>0</td>\n",
       "      <td>1</td>\n",
       "      <td>1</td>\n",
       "      <td>1</td>\n",
       "      <td>...</td>\n",
       "      <td>0</td>\n",
       "      <td>0</td>\n",
       "      <td>0</td>\n",
       "      <td>0</td>\n",
       "      <td>0</td>\n",
       "      <td>0</td>\n",
       "      <td>1</td>\n",
       "      <td>0</td>\n",
       "      <td>0</td>\n",
       "      <td>0</td>\n",
       "    </tr>\n",
       "  </tbody>\n",
       "</table>\n",
       "<p>3 rows × 72 columns</p>\n",
       "</div>"
      ],
      "text/plain": [
       "        0   1   2   3   4   5   6   7   8   9   ...  62  63  64  65  66  67  \\\n",
       "actual   0   0   1   0   0   2   0   2   0   2  ...   0   1   1   0   0   0   \n",
       "lr1      0   0   1   0   0   0   0   2   0   2  ...   0   0   1   0   0   0   \n",
       "knn1     0   0   1   0   0   0   0   1   1   1  ...   0   0   0   0   0   0   \n",
       "\n",
       "        68  69  70  71  \n",
       "actual   1   0   2   1  \n",
       "lr1      1   0   2   0  \n",
       "knn1     1   0   0   0  \n",
       "\n",
       "[3 rows x 72 columns]"
      ]
     },
     "execution_count": 16,
     "metadata": {},
     "output_type": "execute_result"
    }
   ],
   "source": [
    "predictions.T"
   ]
  },
  {
   "cell_type": "code",
   "execution_count": 17,
   "metadata": {},
   "outputs": [
    {
     "data": {
      "text/html": [
       "<div>\n",
       "<style scoped>\n",
       "    .dataframe tbody tr th:only-of-type {\n",
       "        vertical-align: middle;\n",
       "    }\n",
       "\n",
       "    .dataframe tbody tr th {\n",
       "        vertical-align: top;\n",
       "    }\n",
       "\n",
       "    .dataframe thead th {\n",
       "        text-align: right;\n",
       "    }\n",
       "</style>\n",
       "<table border=\"1\" class=\"dataframe\">\n",
       "  <thead>\n",
       "    <tr style=\"text-align: right;\">\n",
       "      <th></th>\n",
       "      <th>0</th>\n",
       "      <th>1</th>\n",
       "      <th>2</th>\n",
       "    </tr>\n",
       "  </thead>\n",
       "  <tbody>\n",
       "    <tr>\n",
       "      <th>baking_experience</th>\n",
       "      <td>0.959293</td>\n",
       "      <td>-0.650448</td>\n",
       "      <td>-0.817013</td>\n",
       "    </tr>\n",
       "    <tr>\n",
       "      <th>decorating_experience</th>\n",
       "      <td>0.832244</td>\n",
       "      <td>-0.551280</td>\n",
       "      <td>-0.602838</td>\n",
       "    </tr>\n",
       "    <tr>\n",
       "      <th>goofy</th>\n",
       "      <td>-0.740523</td>\n",
       "      <td>0.235108</td>\n",
       "      <td>0.246619</td>\n",
       "    </tr>\n",
       "    <tr>\n",
       "      <th>here_to_impress_someone</th>\n",
       "      <td>-0.213545</td>\n",
       "      <td>0.430982</td>\n",
       "      <td>-0.441956</td>\n",
       "    </tr>\n",
       "    <tr>\n",
       "      <th>just_married</th>\n",
       "      <td>-0.143095</td>\n",
       "      <td>-0.336227</td>\n",
       "      <td>0.570415</td>\n",
       "    </tr>\n",
       "    <tr>\n",
       "      <th>clumsy</th>\n",
       "      <td>0.115105</td>\n",
       "      <td>-0.417389</td>\n",
       "      <td>0.346735</td>\n",
       "    </tr>\n",
       "    <tr>\n",
       "      <th>risk_taker</th>\n",
       "      <td>-0.576308</td>\n",
       "      <td>-0.018703</td>\n",
       "      <td>0.709407</td>\n",
       "    </tr>\n",
       "    <tr>\n",
       "      <th>familiar_with_show</th>\n",
       "      <td>0.830338</td>\n",
       "      <td>-0.680259</td>\n",
       "      <td>-0.426046</td>\n",
       "    </tr>\n",
       "    <tr>\n",
       "      <th>dressed_wrong_for_baking</th>\n",
       "      <td>-0.045198</td>\n",
       "      <td>0.078537</td>\n",
       "      <td>-0.026089</td>\n",
       "    </tr>\n",
       "    <tr>\n",
       "      <th>here_for_the_money</th>\n",
       "      <td>0.584889</td>\n",
       "      <td>-0.281874</td>\n",
       "      <td>-0.508192</td>\n",
       "    </tr>\n",
       "    <tr>\n",
       "      <th>slow</th>\n",
       "      <td>-0.390701</td>\n",
       "      <td>0.064744</td>\n",
       "      <td>0.225731</td>\n",
       "    </tr>\n",
       "    <tr>\n",
       "      <th>female</th>\n",
       "      <td>0.632307</td>\n",
       "      <td>-0.642805</td>\n",
       "      <td>-0.621347</td>\n",
       "    </tr>\n",
       "    <tr>\n",
       "      <th>male</th>\n",
       "      <td>-0.628843</td>\n",
       "      <td>0.416798</td>\n",
       "      <td>-0.034948</td>\n",
       "    </tr>\n",
       "    <tr>\n",
       "      <th>middle_aged</th>\n",
       "      <td>0.426723</td>\n",
       "      <td>-0.592248</td>\n",
       "      <td>-0.196606</td>\n",
       "    </tr>\n",
       "    <tr>\n",
       "      <th>older</th>\n",
       "      <td>-0.562481</td>\n",
       "      <td>0.367822</td>\n",
       "      <td>0.165646</td>\n",
       "    </tr>\n",
       "    <tr>\n",
       "      <th>young</th>\n",
       "      <td>0.139221</td>\n",
       "      <td>-0.001581</td>\n",
       "      <td>-0.625335</td>\n",
       "    </tr>\n",
       "    <tr>\n",
       "      <th>arts</th>\n",
       "      <td>0.037306</td>\n",
       "      <td>-0.398909</td>\n",
       "      <td>0.288574</td>\n",
       "    </tr>\n",
       "    <tr>\n",
       "      <th>communications</th>\n",
       "      <td>-0.001212</td>\n",
       "      <td>0.432902</td>\n",
       "      <td>-0.374821</td>\n",
       "    </tr>\n",
       "    <tr>\n",
       "      <th>design</th>\n",
       "      <td>-0.304350</td>\n",
       "      <td>0.100691</td>\n",
       "      <td>0.277149</td>\n",
       "    </tr>\n",
       "    <tr>\n",
       "      <th>education</th>\n",
       "      <td>-0.097791</td>\n",
       "      <td>0.510123</td>\n",
       "      <td>-0.611813</td>\n",
       "    </tr>\n",
       "    <tr>\n",
       "      <th>entertainment_&amp;_tourism</th>\n",
       "      <td>0.344351</td>\n",
       "      <td>-0.717856</td>\n",
       "      <td>0.320541</td>\n",
       "    </tr>\n",
       "    <tr>\n",
       "      <th>food_services</th>\n",
       "      <td>-0.064983</td>\n",
       "      <td>0.242675</td>\n",
       "      <td>-0.380540</td>\n",
       "    </tr>\n",
       "    <tr>\n",
       "      <th>healthcare</th>\n",
       "      <td>-0.002864</td>\n",
       "      <td>0.307981</td>\n",
       "      <td>-0.285089</td>\n",
       "    </tr>\n",
       "    <tr>\n",
       "      <th>law_enforcement</th>\n",
       "      <td>0.028682</td>\n",
       "      <td>0.034510</td>\n",
       "      <td>-0.153522</td>\n",
       "    </tr>\n",
       "    <tr>\n",
       "      <th>military</th>\n",
       "      <td>0.398549</td>\n",
       "      <td>-0.138728</td>\n",
       "      <td>-0.257656</td>\n",
       "    </tr>\n",
       "    <tr>\n",
       "      <th>parent</th>\n",
       "      <td>0.386653</td>\n",
       "      <td>-0.347355</td>\n",
       "      <td>-0.179210</td>\n",
       "    </tr>\n",
       "    <tr>\n",
       "      <th>recruiter</th>\n",
       "      <td>-0.354320</td>\n",
       "      <td>-0.201188</td>\n",
       "      <td>0.649907</td>\n",
       "    </tr>\n",
       "    <tr>\n",
       "      <th>sales</th>\n",
       "      <td>-0.422833</td>\n",
       "      <td>0.130955</td>\n",
       "      <td>0.271313</td>\n",
       "    </tr>\n",
       "    <tr>\n",
       "      <th>social_media</th>\n",
       "      <td>0.276841</td>\n",
       "      <td>-0.178541</td>\n",
       "      <td>-0.157234</td>\n",
       "    </tr>\n",
       "    <tr>\n",
       "      <th>student</th>\n",
       "      <td>0.142375</td>\n",
       "      <td>-0.179740</td>\n",
       "      <td>-0.054458</td>\n",
       "    </tr>\n",
       "    <tr>\n",
       "      <th>tech</th>\n",
       "      <td>0.155404</td>\n",
       "      <td>-0.356384</td>\n",
       "      <td>0.102974</td>\n",
       "    </tr>\n",
       "    <tr>\n",
       "      <th>midwest</th>\n",
       "      <td>-0.038840</td>\n",
       "      <td>0.146577</td>\n",
       "      <td>-0.137787</td>\n",
       "    </tr>\n",
       "    <tr>\n",
       "      <th>northeast</th>\n",
       "      <td>-0.305257</td>\n",
       "      <td>0.016521</td>\n",
       "      <td>-0.009810</td>\n",
       "    </tr>\n",
       "    <tr>\n",
       "      <th>southeast</th>\n",
       "      <td>-0.280164</td>\n",
       "      <td>0.738393</td>\n",
       "      <td>-0.690707</td>\n",
       "    </tr>\n",
       "    <tr>\n",
       "      <th>southwest</th>\n",
       "      <td>-0.091329</td>\n",
       "      <td>-0.098281</td>\n",
       "      <td>0.033150</td>\n",
       "    </tr>\n",
       "    <tr>\n",
       "      <th>west</th>\n",
       "      <td>0.619878</td>\n",
       "      <td>-0.474136</td>\n",
       "      <td>-0.244952</td>\n",
       "    </tr>\n",
       "  </tbody>\n",
       "</table>\n",
       "</div>"
      ],
      "text/plain": [
       "                                 0         1         2\n",
       "baking_experience         0.959293 -0.650448 -0.817013\n",
       "decorating_experience     0.832244 -0.551280 -0.602838\n",
       "goofy                    -0.740523  0.235108  0.246619\n",
       "here_to_impress_someone  -0.213545  0.430982 -0.441956\n",
       "just_married             -0.143095 -0.336227  0.570415\n",
       "clumsy                    0.115105 -0.417389  0.346735\n",
       "risk_taker               -0.576308 -0.018703  0.709407\n",
       "familiar_with_show        0.830338 -0.680259 -0.426046\n",
       "dressed_wrong_for_baking -0.045198  0.078537 -0.026089\n",
       "here_for_the_money        0.584889 -0.281874 -0.508192\n",
       "slow                     -0.390701  0.064744  0.225731\n",
       "female                    0.632307 -0.642805 -0.621347\n",
       "male                     -0.628843  0.416798 -0.034948\n",
       "middle_aged               0.426723 -0.592248 -0.196606\n",
       "older                    -0.562481  0.367822  0.165646\n",
       "young                     0.139221 -0.001581 -0.625335\n",
       "arts                      0.037306 -0.398909  0.288574\n",
       "communications           -0.001212  0.432902 -0.374821\n",
       "design                   -0.304350  0.100691  0.277149\n",
       "education                -0.097791  0.510123 -0.611813\n",
       "entertainment_&_tourism   0.344351 -0.717856  0.320541\n",
       "food_services            -0.064983  0.242675 -0.380540\n",
       "healthcare               -0.002864  0.307981 -0.285089\n",
       "law_enforcement           0.028682  0.034510 -0.153522\n",
       "military                  0.398549 -0.138728 -0.257656\n",
       "parent                    0.386653 -0.347355 -0.179210\n",
       "recruiter                -0.354320 -0.201188  0.649907\n",
       "sales                    -0.422833  0.130955  0.271313\n",
       "social_media              0.276841 -0.178541 -0.157234\n",
       "student                   0.142375 -0.179740 -0.054458\n",
       "tech                      0.155404 -0.356384  0.102974\n",
       "midwest                  -0.038840  0.146577 -0.137787\n",
       "northeast                -0.305257  0.016521 -0.009810\n",
       "southeast                -0.280164  0.738393 -0.690707\n",
       "southwest                -0.091329 -0.098281  0.033150\n",
       "west                      0.619878 -0.474136 -0.244952"
      ]
     },
     "execution_count": 17,
     "metadata": {},
     "output_type": "execute_result"
    }
   ],
   "source": [
    "coefs = pd.DataFrame(lr.coef_.T, index=X.columns, columns=[0,1,2])\n",
    "coefs"
   ]
  },
  {
   "cell_type": "code",
   "execution_count": null,
   "metadata": {},
   "outputs": [],
   "source": []
  },
  {
   "cell_type": "code",
   "execution_count": 18,
   "metadata": {},
   "outputs": [
    {
     "data": {
      "text/html": [
       "<div>\n",
       "<style scoped>\n",
       "    .dataframe tbody tr th:only-of-type {\n",
       "        vertical-align: middle;\n",
       "    }\n",
       "\n",
       "    .dataframe tbody tr th {\n",
       "        vertical-align: top;\n",
       "    }\n",
       "\n",
       "    .dataframe thead th {\n",
       "        text-align: right;\n",
       "    }\n",
       "</style>\n",
       "<table border=\"1\" class=\"dataframe\">\n",
       "  <thead>\n",
       "    <tr style=\"text-align: right;\">\n",
       "      <th></th>\n",
       "      <th>0</th>\n",
       "      <th>1</th>\n",
       "      <th>2</th>\n",
       "    </tr>\n",
       "  </thead>\n",
       "  <tbody>\n",
       "    <tr>\n",
       "      <th>male</th>\n",
       "      <td>-0.628843</td>\n",
       "      <td>0.416798</td>\n",
       "      <td>-0.034948</td>\n",
       "    </tr>\n",
       "    <tr>\n",
       "      <th>older</th>\n",
       "      <td>-0.562481</td>\n",
       "      <td>0.367822</td>\n",
       "      <td>0.165646</td>\n",
       "    </tr>\n",
       "    <tr>\n",
       "      <th>northeast</th>\n",
       "      <td>-0.305257</td>\n",
       "      <td>0.016521</td>\n",
       "      <td>-0.009810</td>\n",
       "    </tr>\n",
       "    <tr>\n",
       "      <th>southeast</th>\n",
       "      <td>-0.280164</td>\n",
       "      <td>0.738393</td>\n",
       "      <td>-0.690707</td>\n",
       "    </tr>\n",
       "    <tr>\n",
       "      <th>here_to_impress_someone</th>\n",
       "      <td>-0.213545</td>\n",
       "      <td>0.430982</td>\n",
       "      <td>-0.441956</td>\n",
       "    </tr>\n",
       "    <tr>\n",
       "      <th>just_married</th>\n",
       "      <td>-0.143095</td>\n",
       "      <td>-0.336227</td>\n",
       "      <td>0.570415</td>\n",
       "    </tr>\n",
       "    <tr>\n",
       "      <th>education</th>\n",
       "      <td>-0.097791</td>\n",
       "      <td>0.510123</td>\n",
       "      <td>-0.611813</td>\n",
       "    </tr>\n",
       "    <tr>\n",
       "      <th>southwest</th>\n",
       "      <td>-0.091329</td>\n",
       "      <td>-0.098281</td>\n",
       "      <td>0.033150</td>\n",
       "    </tr>\n",
       "    <tr>\n",
       "      <th>food_services</th>\n",
       "      <td>-0.064983</td>\n",
       "      <td>0.242675</td>\n",
       "      <td>-0.380540</td>\n",
       "    </tr>\n",
       "    <tr>\n",
       "      <th>dressed_wrong_for_baking</th>\n",
       "      <td>-0.045198</td>\n",
       "      <td>0.078537</td>\n",
       "      <td>-0.026089</td>\n",
       "    </tr>\n",
       "    <tr>\n",
       "      <th>midwest</th>\n",
       "      <td>-0.038840</td>\n",
       "      <td>0.146577</td>\n",
       "      <td>-0.137787</td>\n",
       "    </tr>\n",
       "    <tr>\n",
       "      <th>healthcare</th>\n",
       "      <td>-0.002864</td>\n",
       "      <td>0.307981</td>\n",
       "      <td>-0.285089</td>\n",
       "    </tr>\n",
       "    <tr>\n",
       "      <th>communications</th>\n",
       "      <td>-0.001212</td>\n",
       "      <td>0.432902</td>\n",
       "      <td>-0.374821</td>\n",
       "    </tr>\n",
       "    <tr>\n",
       "      <th>law_enforcement</th>\n",
       "      <td>0.028682</td>\n",
       "      <td>0.034510</td>\n",
       "      <td>-0.153522</td>\n",
       "    </tr>\n",
       "    <tr>\n",
       "      <th>arts</th>\n",
       "      <td>0.037306</td>\n",
       "      <td>-0.398909</td>\n",
       "      <td>0.288574</td>\n",
       "    </tr>\n",
       "    <tr>\n",
       "      <th>clumsy</th>\n",
       "      <td>0.115105</td>\n",
       "      <td>-0.417389</td>\n",
       "      <td>0.346735</td>\n",
       "    </tr>\n",
       "    <tr>\n",
       "      <th>student</th>\n",
       "      <td>0.142375</td>\n",
       "      <td>-0.179740</td>\n",
       "      <td>-0.054458</td>\n",
       "    </tr>\n",
       "    <tr>\n",
       "      <th>tech</th>\n",
       "      <td>0.155404</td>\n",
       "      <td>-0.356384</td>\n",
       "      <td>0.102974</td>\n",
       "    </tr>\n",
       "    <tr>\n",
       "      <th>social_media</th>\n",
       "      <td>0.276841</td>\n",
       "      <td>-0.178541</td>\n",
       "      <td>-0.157234</td>\n",
       "    </tr>\n",
       "    <tr>\n",
       "      <th>entertainment_&amp;_tourism</th>\n",
       "      <td>0.344351</td>\n",
       "      <td>-0.717856</td>\n",
       "      <td>0.320541</td>\n",
       "    </tr>\n",
       "    <tr>\n",
       "      <th>parent</th>\n",
       "      <td>0.386653</td>\n",
       "      <td>-0.347355</td>\n",
       "      <td>-0.179210</td>\n",
       "    </tr>\n",
       "    <tr>\n",
       "      <th>middle_aged</th>\n",
       "      <td>0.426723</td>\n",
       "      <td>-0.592248</td>\n",
       "      <td>-0.196606</td>\n",
       "    </tr>\n",
       "    <tr>\n",
       "      <th>west</th>\n",
       "      <td>0.619878</td>\n",
       "      <td>-0.474136</td>\n",
       "      <td>-0.244952</td>\n",
       "    </tr>\n",
       "    <tr>\n",
       "      <th>female</th>\n",
       "      <td>0.632307</td>\n",
       "      <td>-0.642805</td>\n",
       "      <td>-0.621347</td>\n",
       "    </tr>\n",
       "    <tr>\n",
       "      <th>familiar_with_show</th>\n",
       "      <td>0.830338</td>\n",
       "      <td>-0.680259</td>\n",
       "      <td>-0.426046</td>\n",
       "    </tr>\n",
       "  </tbody>\n",
       "</table>\n",
       "</div>"
      ],
      "text/plain": [
       "                                 0         1         2\n",
       "male                     -0.628843  0.416798 -0.034948\n",
       "older                    -0.562481  0.367822  0.165646\n",
       "northeast                -0.305257  0.016521 -0.009810\n",
       "southeast                -0.280164  0.738393 -0.690707\n",
       "here_to_impress_someone  -0.213545  0.430982 -0.441956\n",
       "just_married             -0.143095 -0.336227  0.570415\n",
       "education                -0.097791  0.510123 -0.611813\n",
       "southwest                -0.091329 -0.098281  0.033150\n",
       "food_services            -0.064983  0.242675 -0.380540\n",
       "dressed_wrong_for_baking -0.045198  0.078537 -0.026089\n",
       "midwest                  -0.038840  0.146577 -0.137787\n",
       "healthcare               -0.002864  0.307981 -0.285089\n",
       "communications           -0.001212  0.432902 -0.374821\n",
       "law_enforcement           0.028682  0.034510 -0.153522\n",
       "arts                      0.037306 -0.398909  0.288574\n",
       "clumsy                    0.115105 -0.417389  0.346735\n",
       "student                   0.142375 -0.179740 -0.054458\n",
       "tech                      0.155404 -0.356384  0.102974\n",
       "social_media              0.276841 -0.178541 -0.157234\n",
       "entertainment_&_tourism   0.344351 -0.717856  0.320541\n",
       "parent                    0.386653 -0.347355 -0.179210\n",
       "middle_aged               0.426723 -0.592248 -0.196606\n",
       "west                      0.619878 -0.474136 -0.244952\n",
       "female                    0.632307 -0.642805 -0.621347\n",
       "familiar_with_show        0.830338 -0.680259 -0.426046"
      ]
     },
     "execution_count": 18,
     "metadata": {},
     "output_type": "execute_result"
    }
   ],
   "source": [
    "# Removing columns to reduce overfit-ness of model\n",
    "\n",
    "# We would expect that a good indicator will have a coef for 1 (embarassed a little) that is between \n",
    "# 0 (didn't embarass) and 2 (embarassed a lot)\n",
    "coefs[((coefs[0]>coefs[1]) & (coefs[1]<coefs[2]))].\\\n",
    "append(coefs[((coefs[0]<coefs[1]) & (coefs[1]>coefs[2]))]).sort_values(0)\n",
    "\n",
    "# Looking at this list, I will begin dropping columns"
   ]
  },
  {
   "cell_type": "code",
   "execution_count": 19,
   "metadata": {},
   "outputs": [],
   "source": [
    "X = df.drop(['won', \n",
    "             'embarrassed', \n",
    "             'won_round_1', \n",
    "             'lost_round_1', \n",
    "             'west', \n",
    "             'decorating_experience', \n",
    "             'here_for_the_money'\n",
    "             ], axis=1)\n",
    "y = df.embarrassed\n",
    "\n",
    "X_train, X_test, y_train, y_test = train_test_split(X,\n",
    "                                                    y,\n",
    "                                                    random_state=42)"
   ]
  },
  {
   "cell_type": "code",
   "execution_count": 20,
   "metadata": {},
   "outputs": [
    {
     "name": "stdout",
     "output_type": "stream",
     "text": [
      "Accuracy Score for train data: 0.7222222222222222\n",
      "Accuracy Score for test data: 0.3888888888888889\n"
     ]
    },
    {
     "name": "stderr",
     "output_type": "stream",
     "text": [
      "/Users/mags/anaconda3/lib/python3.7/site-packages/sklearn/linear_model/logistic.py:433: FutureWarning: Default solver will be changed to 'lbfgs' in 0.22. Specify a solver to silence this warning.\n",
      "  FutureWarning)\n",
      "/Users/mags/anaconda3/lib/python3.7/site-packages/sklearn/linear_model/logistic.py:460: FutureWarning: Default multi_class will be changed to 'auto' in 0.22. Specify the multi_class option to silence this warning.\n",
      "  \"this warning.\", FutureWarning)\n"
     ]
    }
   ],
   "source": [
    "lr = LogisticRegression(penalty='l2', C=1)\n",
    "\n",
    "lr.fit(X_train, y_train)\n",
    "\n",
    "print(f'Accuracy Score for train data: {lr.score(X_train, y_train)}')\n",
    "print(f'Accuracy Score for test data: {lr.score(X_test, y_test)}')"
   ]
  },
  {
   "cell_type": "code",
   "execution_count": 21,
   "metadata": {},
   "outputs": [
    {
     "name": "stderr",
     "output_type": "stream",
     "text": [
      "/Users/mags/anaconda3/lib/python3.7/site-packages/ipykernel_launcher.py:5: SettingWithCopyWarning: \n",
      "A value is trying to be set on a copy of a slice from a DataFrame\n",
      "\n",
      "See the caveats in the documentation: http://pandas.pydata.org/pandas-docs/stable/indexing.html#indexing-view-versus-copy\n",
      "  \"\"\"\n"
     ]
    }
   ],
   "source": [
    "# checking how model does with only 1 embarrassment category\n",
    "\n",
    "X = df.drop(['won', 'embarrassed', 'won_round_1', 'lost_round_1'], axis=1)\n",
    "y = df.embarrassed\n",
    "y[df['embarrassed'] == 2] = 1\n",
    "\n",
    "X_train, X_test, y_train, y_test = train_test_split(X,\n",
    "                                                    y,\n",
    "                                                    stratify=y,\n",
    "                                                    random_state=42)\n",
    "\n",
    "# per models below, combining embarassed a little with embarassed a lot to more accurately predict"
   ]
  },
  {
   "cell_type": "code",
   "execution_count": 25,
   "metadata": {},
   "outputs": [
    {
     "name": "stdout",
     "output_type": "stream",
     "text": [
      "Accuracy Score for train data: 0.8148148148148148\n",
      "Accuracy Score for test data: 0.6111111111111112\n"
     ]
    },
    {
     "name": "stderr",
     "output_type": "stream",
     "text": [
      "/Users/mags/anaconda3/lib/python3.7/site-packages/sklearn/linear_model/logistic.py:433: FutureWarning: Default solver will be changed to 'lbfgs' in 0.22. Specify a solver to silence this warning.\n",
      "  FutureWarning)\n"
     ]
    },
    {
     "data": {
      "text/plain": [
       "array([0, 0, 1, 0, 1, 1, 0, 1, 0, 1, 0, 0, 0, 0, 0, 1, 1, 0, 0, 1, 0, 1,\n",
       "       0, 0, 1, 1, 0, 0, 1, 0, 0, 0, 1, 0, 0, 0, 1, 0, 0, 1, 1, 0, 1, 0,\n",
       "       1, 1, 1, 0, 1, 1, 1, 0, 0, 1, 0, 1, 0, 0, 0, 0, 0, 0, 0, 0, 1, 0,\n",
       "       0, 0, 1, 0, 1, 1])"
      ]
     },
     "execution_count": 25,
     "metadata": {},
     "output_type": "execute_result"
    }
   ],
   "source": [
    "lr = LogisticRegression()\n",
    "lr.fit(X_train, y_train)\n",
    "\n",
    "print(f'Accuracy Score for train data: {lr.score(X_train, y_train)}')\n",
    "print(f'Accuracy Score for test data: {lr.score(X_test, y_test)}')"
   ]
  },
  {
   "cell_type": "code",
   "execution_count": 23,
   "metadata": {},
   "outputs": [
    {
     "name": "stderr",
     "output_type": "stream",
     "text": [
      "[Parallel(n_jobs=2)]: Using backend LokyBackend with 2 concurrent workers.\n"
     ]
    },
    {
     "name": "stdout",
     "output_type": "stream",
     "text": [
      "Fitting 2 folds for each of 8 candidates, totalling 16 fits\n",
      "Accuracy Score for train data: 0.7222222222222222\n",
      "Accuracy Score for test data: 0.5\n"
     ]
    },
    {
     "name": "stderr",
     "output_type": "stream",
     "text": [
      "[Parallel(n_jobs=2)]: Done  16 out of  16 | elapsed:    0.1s finished\n",
      "/Users/mags/anaconda3/lib/python3.7/site-packages/sklearn/model_selection/_search.py:841: DeprecationWarning: The default of the `iid` parameter will change from True to False in version 0.22 and will be removed in 0.24. This will change numeric results when test-set sizes are unequal.\n",
      "  DeprecationWarning)\n"
     ]
    },
    {
     "data": {
      "text/plain": [
       "{'cv': 2,\n",
       " 'error_score': 'raise-deprecating',\n",
       " 'estimator__algorithm': 'auto',\n",
       " 'estimator__leaf_size': 30,\n",
       " 'estimator__metric': 'minkowski',\n",
       " 'estimator__metric_params': None,\n",
       " 'estimator__n_jobs': None,\n",
       " 'estimator__n_neighbors': 5,\n",
       " 'estimator__p': 2,\n",
       " 'estimator__weights': 'uniform',\n",
       " 'estimator': KNeighborsClassifier(algorithm='auto', leaf_size=30, metric='minkowski',\n",
       "            metric_params=None, n_jobs=None, n_neighbors=5, p=2,\n",
       "            weights='uniform'),\n",
       " 'fit_params': None,\n",
       " 'iid': 'warn',\n",
       " 'n_jobs': 2,\n",
       " 'param_grid': {'n_neighbors': [4, 5, 7, 8],\n",
       "  'metric': ['euclidean', 'manhattan']},\n",
       " 'pre_dispatch': '2*n_jobs',\n",
       " 'refit': True,\n",
       " 'return_train_score': False,\n",
       " 'scoring': None,\n",
       " 'verbose': 1}"
      ]
     },
     "execution_count": 23,
     "metadata": {},
     "output_type": "execute_result"
    }
   ],
   "source": [
    "knn = KNeighborsClassifier()\n",
    "\n",
    "knn_params = {\n",
    "    'n_neighbors' : [4, 5, 7, 8],\n",
    "    'metric' : ['euclidean', 'manhattan']\n",
    "}\n",
    "\n",
    "knn_gridsearch = GridSearchCV(\n",
    "    KNeighborsClassifier(),\n",
    "    knn_params,\n",
    "    cv=2,\n",
    "    verbose=1,\n",
    "    return_train_score=False,\n",
    "    n_jobs=2 \n",
    ")\n",
    "\n",
    "knn_gridsearch.fit(X_train, y_train)\n",
    "print(f'Accuracy Score for train data: {knn_gridsearch.score(X_train, y_train)}')\n",
    "print(f'Accuracy Score for test data: {knn_gridsearch.score(X_test, y_test)}')\n",
    "# Less good but about the same as the logistic regression\n",
    "\n",
    "knn_gridsearch.best_estimator_"
   ]
  },
  {
   "cell_type": "code",
   "execution_count": 33,
   "metadata": {},
   "outputs": [],
   "source": [
    "coefs2 = pd.DataFrame(lr.coef_.T, index=X.columns)"
   ]
  },
  {
   "cell_type": "code",
   "execution_count": 37,
   "metadata": {
    "scrolled": true
   },
   "outputs": [
    {
     "data": {
      "text/html": [
       "<div>\n",
       "<style scoped>\n",
       "    .dataframe tbody tr th:only-of-type {\n",
       "        vertical-align: middle;\n",
       "    }\n",
       "\n",
       "    .dataframe tbody tr th {\n",
       "        vertical-align: top;\n",
       "    }\n",
       "\n",
       "    .dataframe thead th {\n",
       "        text-align: right;\n",
       "    }\n",
       "</style>\n",
       "<table border=\"1\" class=\"dataframe\">\n",
       "  <thead>\n",
       "    <tr style=\"text-align: right;\">\n",
       "      <th></th>\n",
       "      <th>0</th>\n",
       "    </tr>\n",
       "  </thead>\n",
       "  <tbody>\n",
       "    <tr>\n",
       "      <th>decorating_experience</th>\n",
       "      <td>-0.655940</td>\n",
       "    </tr>\n",
       "    <tr>\n",
       "      <th>female</th>\n",
       "      <td>-0.572329</td>\n",
       "    </tr>\n",
       "    <tr>\n",
       "      <th>baking_experience</th>\n",
       "      <td>-0.534216</td>\n",
       "    </tr>\n",
       "    <tr>\n",
       "      <th>here_for_the_money</th>\n",
       "      <td>-0.521012</td>\n",
       "    </tr>\n",
       "    <tr>\n",
       "      <th>familiar_with_show</th>\n",
       "      <td>-0.458977</td>\n",
       "    </tr>\n",
       "    <tr>\n",
       "      <th>young</th>\n",
       "      <td>-0.432027</td>\n",
       "    </tr>\n",
       "    <tr>\n",
       "      <th>west</th>\n",
       "      <td>-0.388748</td>\n",
       "    </tr>\n",
       "    <tr>\n",
       "      <th>social_media</th>\n",
       "      <td>-0.378513</td>\n",
       "    </tr>\n",
       "    <tr>\n",
       "      <th>military</th>\n",
       "      <td>-0.371668</td>\n",
       "    </tr>\n",
       "    <tr>\n",
       "      <th>parent</th>\n",
       "      <td>-0.256251</td>\n",
       "    </tr>\n",
       "    <tr>\n",
       "      <th>middle_aged</th>\n",
       "      <td>-0.253602</td>\n",
       "    </tr>\n",
       "    <tr>\n",
       "      <th>student</th>\n",
       "      <td>-0.218052</td>\n",
       "    </tr>\n",
       "    <tr>\n",
       "      <th>law_enforcement</th>\n",
       "      <td>-0.172143</td>\n",
       "    </tr>\n",
       "    <tr>\n",
       "      <th>arts</th>\n",
       "      <td>-0.158950</td>\n",
       "    </tr>\n",
       "    <tr>\n",
       "      <th>here_to_impress_someone</th>\n",
       "      <td>-0.105508</td>\n",
       "    </tr>\n",
       "    <tr>\n",
       "      <th>tech</th>\n",
       "      <td>-0.103697</td>\n",
       "    </tr>\n",
       "    <tr>\n",
       "      <th>healthcare</th>\n",
       "      <td>-0.076182</td>\n",
       "    </tr>\n",
       "    <tr>\n",
       "      <th>southwest</th>\n",
       "      <td>-0.058899</td>\n",
       "    </tr>\n",
       "    <tr>\n",
       "      <th>food_services</th>\n",
       "      <td>-0.030079</td>\n",
       "    </tr>\n",
       "    <tr>\n",
       "      <th>dressed_wrong_for_baking</th>\n",
       "      <td>-0.026540</td>\n",
       "    </tr>\n",
       "    <tr>\n",
       "      <th>communications</th>\n",
       "      <td>-0.001959</td>\n",
       "    </tr>\n",
       "    <tr>\n",
       "      <th>recruiter</th>\n",
       "      <td>0.000000</td>\n",
       "    </tr>\n",
       "    <tr>\n",
       "      <th>education</th>\n",
       "      <td>0.020901</td>\n",
       "    </tr>\n",
       "    <tr>\n",
       "      <th>clumsy</th>\n",
       "      <td>0.025367</td>\n",
       "    </tr>\n",
       "    <tr>\n",
       "      <th>just_married</th>\n",
       "      <td>0.119883</td>\n",
       "    </tr>\n",
       "    <tr>\n",
       "      <th>entertainment_&amp;_tourism</th>\n",
       "      <td>0.136696</td>\n",
       "    </tr>\n",
       "    <tr>\n",
       "      <th>risk_taker</th>\n",
       "      <td>0.268612</td>\n",
       "    </tr>\n",
       "    <tr>\n",
       "      <th>slow</th>\n",
       "      <td>0.269921</td>\n",
       "    </tr>\n",
       "    <tr>\n",
       "      <th>design</th>\n",
       "      <td>0.332301</td>\n",
       "    </tr>\n",
       "    <tr>\n",
       "      <th>southeast</th>\n",
       "      <td>0.404547</td>\n",
       "    </tr>\n",
       "    <tr>\n",
       "      <th>midwest</th>\n",
       "      <td>0.466964</td>\n",
       "    </tr>\n",
       "    <tr>\n",
       "      <th>male</th>\n",
       "      <td>0.617974</td>\n",
       "    </tr>\n",
       "    <tr>\n",
       "      <th>northeast</th>\n",
       "      <td>0.644054</td>\n",
       "    </tr>\n",
       "    <tr>\n",
       "      <th>goofy</th>\n",
       "      <td>0.700336</td>\n",
       "    </tr>\n",
       "    <tr>\n",
       "      <th>older</th>\n",
       "      <td>0.731275</td>\n",
       "    </tr>\n",
       "    <tr>\n",
       "      <th>sales</th>\n",
       "      <td>0.776644</td>\n",
       "    </tr>\n",
       "  </tbody>\n",
       "</table>\n",
       "</div>"
      ],
      "text/plain": [
       "                                 0\n",
       "decorating_experience    -0.655940\n",
       "female                   -0.572329\n",
       "baking_experience        -0.534216\n",
       "here_for_the_money       -0.521012\n",
       "familiar_with_show       -0.458977\n",
       "young                    -0.432027\n",
       "west                     -0.388748\n",
       "social_media             -0.378513\n",
       "military                 -0.371668\n",
       "parent                   -0.256251\n",
       "middle_aged              -0.253602\n",
       "student                  -0.218052\n",
       "law_enforcement          -0.172143\n",
       "arts                     -0.158950\n",
       "here_to_impress_someone  -0.105508\n",
       "tech                     -0.103697\n",
       "healthcare               -0.076182\n",
       "southwest                -0.058899\n",
       "food_services            -0.030079\n",
       "dressed_wrong_for_baking -0.026540\n",
       "communications           -0.001959\n",
       "recruiter                 0.000000\n",
       "education                 0.020901\n",
       "clumsy                    0.025367\n",
       "just_married              0.119883\n",
       "entertainment_&_tourism   0.136696\n",
       "risk_taker                0.268612\n",
       "slow                      0.269921\n",
       "design                    0.332301\n",
       "southeast                 0.404547\n",
       "midwest                   0.466964\n",
       "male                      0.617974\n",
       "northeast                 0.644054\n",
       "goofy                     0.700336\n",
       "older                     0.731275\n",
       "sales                     0.776644"
      ]
     },
     "execution_count": 37,
     "metadata": {},
     "output_type": "execute_result"
    }
   ],
   "source": [
    "coefs2 = pd.DataFrame(lr.coef_.T, index=X.columns)\n",
    "coefs2.sort_values(0)"
   ]
  },
  {
   "cell_type": "code",
   "execution_count": 51,
   "metadata": {},
   "outputs": [],
   "source": [
    "X = df.drop(['won', \n",
    "             'embarrassed', \n",
    "             'won_round_1', \n",
    "             'lost_round_1', \n",
    "             'recruiter', \n",
    "             'communications', \n",
    "             'dressed_wrong_for_baking',\n",
    "             'education'\n",
    "             ], axis=1)\n",
    "\n",
    "X_train, X_test, y_train, y_test = train_test_split(X,\n",
    "                                                    y,\n",
    "                                                    stratify=y,\n",
    "                                                    random_state=42)"
   ]
  },
  {
   "cell_type": "code",
   "execution_count": 52,
   "metadata": {},
   "outputs": [
    {
     "name": "stdout",
     "output_type": "stream",
     "text": [
      "Accuracy Score for train data: 0.8148148148148148\n",
      "Accuracy Score for test data: 0.6111111111111112\n",
      "Accuracy Score for train data: 0.7592592592592593\n",
      "Accuracy Score for test data: 0.7222222222222222\n"
     ]
    },
    {
     "name": "stderr",
     "output_type": "stream",
     "text": [
      "/Users/mags/anaconda3/lib/python3.7/site-packages/sklearn/linear_model/logistic.py:433: FutureWarning: Default solver will be changed to 'lbfgs' in 0.22. Specify a solver to silence this warning.\n",
      "  FutureWarning)\n"
     ]
    }
   ],
   "source": [
    "lr = LogisticRegression()\n",
    "lr.fit(X_train, y_train)\n",
    "\n",
    "print(f'Accuracy Score for train data: {lr.score(X_train, y_train)}')\n",
    "print(f'Accuracy Score for test data: {lr.score(X_test, y_test)}')\n",
    "\n",
    "knn = KNeighborsClassifier()\n",
    "knn.fit(X_train, y_train)\n",
    "\n",
    "print(f'Accuracy Score for train data: {knn.score(X_train, y_train)}')\n",
    "print(f'Accuracy Score for test data: {knn.score(X_test, y_test)}')\n",
    "\n"
   ]
  },
  {
   "cell_type": "code",
   "execution_count": 43,
   "metadata": {},
   "outputs": [
    {
     "data": {
      "text/html": [
       "<div>\n",
       "<style scoped>\n",
       "    .dataframe tbody tr th:only-of-type {\n",
       "        vertical-align: middle;\n",
       "    }\n",
       "\n",
       "    .dataframe tbody tr th {\n",
       "        vertical-align: top;\n",
       "    }\n",
       "\n",
       "    .dataframe thead th {\n",
       "        text-align: right;\n",
       "    }\n",
       "</style>\n",
       "<table border=\"1\" class=\"dataframe\">\n",
       "  <thead>\n",
       "    <tr style=\"text-align: right;\">\n",
       "      <th></th>\n",
       "      <th>0</th>\n",
       "    </tr>\n",
       "  </thead>\n",
       "  <tbody>\n",
       "    <tr>\n",
       "      <th>decorating_experience</th>\n",
       "      <td>-0.659943</td>\n",
       "    </tr>\n",
       "    <tr>\n",
       "      <th>female</th>\n",
       "      <td>-0.574046</td>\n",
       "    </tr>\n",
       "    <tr>\n",
       "      <th>baking_experience</th>\n",
       "      <td>-0.532024</td>\n",
       "    </tr>\n",
       "    <tr>\n",
       "      <th>here_for_the_money</th>\n",
       "      <td>-0.522488</td>\n",
       "    </tr>\n",
       "    <tr>\n",
       "      <th>familiar_with_show</th>\n",
       "      <td>-0.457280</td>\n",
       "    </tr>\n",
       "    <tr>\n",
       "      <th>young</th>\n",
       "      <td>-0.432248</td>\n",
       "    </tr>\n",
       "    <tr>\n",
       "      <th>west</th>\n",
       "      <td>-0.392450</td>\n",
       "    </tr>\n",
       "    <tr>\n",
       "      <th>social_media</th>\n",
       "      <td>-0.383635</td>\n",
       "    </tr>\n",
       "    <tr>\n",
       "      <th>military</th>\n",
       "      <td>-0.370770</td>\n",
       "    </tr>\n",
       "    <tr>\n",
       "      <th>parent</th>\n",
       "      <td>-0.256344</td>\n",
       "    </tr>\n",
       "    <tr>\n",
       "      <th>middle_aged</th>\n",
       "      <td>-0.250341</td>\n",
       "    </tr>\n",
       "    <tr>\n",
       "      <th>student</th>\n",
       "      <td>-0.219471</td>\n",
       "    </tr>\n",
       "    <tr>\n",
       "      <th>law_enforcement</th>\n",
       "      <td>-0.173320</td>\n",
       "    </tr>\n",
       "    <tr>\n",
       "      <th>arts</th>\n",
       "      <td>-0.161528</td>\n",
       "    </tr>\n",
       "    <tr>\n",
       "      <th>here_to_impress_someone</th>\n",
       "      <td>-0.109288</td>\n",
       "    </tr>\n",
       "    <tr>\n",
       "      <th>tech</th>\n",
       "      <td>-0.105084</td>\n",
       "    </tr>\n",
       "    <tr>\n",
       "      <th>healthcare</th>\n",
       "      <td>-0.075378</td>\n",
       "    </tr>\n",
       "    <tr>\n",
       "      <th>southwest</th>\n",
       "      <td>-0.057926</td>\n",
       "    </tr>\n",
       "    <tr>\n",
       "      <th>food_services</th>\n",
       "      <td>-0.032653</td>\n",
       "    </tr>\n",
       "    <tr>\n",
       "      <th>clumsy</th>\n",
       "      <td>0.021695</td>\n",
       "    </tr>\n",
       "    <tr>\n",
       "      <th>just_married</th>\n",
       "      <td>0.118190</td>\n",
       "    </tr>\n",
       "    <tr>\n",
       "      <th>entertainment_&amp;_tourism</th>\n",
       "      <td>0.134273</td>\n",
       "    </tr>\n",
       "    <tr>\n",
       "      <th>slow</th>\n",
       "      <td>0.265931</td>\n",
       "    </tr>\n",
       "    <tr>\n",
       "      <th>risk_taker</th>\n",
       "      <td>0.267932</td>\n",
       "    </tr>\n",
       "    <tr>\n",
       "      <th>design</th>\n",
       "      <td>0.332966</td>\n",
       "    </tr>\n",
       "    <tr>\n",
       "      <th>southeast</th>\n",
       "      <td>0.401714</td>\n",
       "    </tr>\n",
       "    <tr>\n",
       "      <th>midwest</th>\n",
       "      <td>0.469779</td>\n",
       "    </tr>\n",
       "    <tr>\n",
       "      <th>male</th>\n",
       "      <td>0.621928</td>\n",
       "    </tr>\n",
       "    <tr>\n",
       "      <th>northeast</th>\n",
       "      <td>0.640039</td>\n",
       "    </tr>\n",
       "    <tr>\n",
       "      <th>goofy</th>\n",
       "      <td>0.701972</td>\n",
       "    </tr>\n",
       "    <tr>\n",
       "      <th>older</th>\n",
       "      <td>0.730470</td>\n",
       "    </tr>\n",
       "    <tr>\n",
       "      <th>sales</th>\n",
       "      <td>0.777863</td>\n",
       "    </tr>\n",
       "  </tbody>\n",
       "</table>\n",
       "</div>"
      ],
      "text/plain": [
       "                                0\n",
       "decorating_experience   -0.659943\n",
       "female                  -0.574046\n",
       "baking_experience       -0.532024\n",
       "here_for_the_money      -0.522488\n",
       "familiar_with_show      -0.457280\n",
       "young                   -0.432248\n",
       "west                    -0.392450\n",
       "social_media            -0.383635\n",
       "military                -0.370770\n",
       "parent                  -0.256344\n",
       "middle_aged             -0.250341\n",
       "student                 -0.219471\n",
       "law_enforcement         -0.173320\n",
       "arts                    -0.161528\n",
       "here_to_impress_someone -0.109288\n",
       "tech                    -0.105084\n",
       "healthcare              -0.075378\n",
       "southwest               -0.057926\n",
       "food_services           -0.032653\n",
       "clumsy                   0.021695\n",
       "just_married             0.118190\n",
       "entertainment_&_tourism  0.134273\n",
       "slow                     0.265931\n",
       "risk_taker               0.267932\n",
       "design                   0.332966\n",
       "southeast                0.401714\n",
       "midwest                  0.469779\n",
       "male                     0.621928\n",
       "northeast                0.640039\n",
       "goofy                    0.701972\n",
       "older                    0.730470\n",
       "sales                    0.777863"
      ]
     },
     "execution_count": 43,
     "metadata": {},
     "output_type": "execute_result"
    }
   ],
   "source": [
    "coefs2 = pd.DataFrame(lr.coef_.T, index=X.columns)\n",
    "coefs2.sort_values(0)"
   ]
  },
  {
   "cell_type": "code",
   "execution_count": 88,
   "metadata": {},
   "outputs": [],
   "source": [
    "X = df.drop(['won', \n",
    "             'embarrassed', \n",
    "             'won_round_1', \n",
    "             'lost_round_1', \n",
    "             'recruiter', \n",
    "             'communications', \n",
    "             'dressed_wrong_for_baking',\n",
    "             'education',\n",
    "             'clumsy',\n",
    "             'food_services'\n",
    "             ], axis=1)\n",
    "\n",
    "X_train, X_test, y_train, y_test = train_test_split(X,\n",
    "                                                    y,\n",
    "                                                    stratify=y,\n",
    "                                                    test_size=0.2,\n",
    "                                                    random_state=42)"
   ]
  },
  {
   "cell_type": "code",
   "execution_count": 119,
   "metadata": {},
   "outputs": [
    {
     "name": "stdout",
     "output_type": "stream",
     "text": [
      "Accuracy Score for train data: 0.8421052631578947\n",
      "Accuracy Score for test data: 0.7333333333333333\n",
      "Accuracy Score for train data: 0.7368421052631579\n",
      "Accuracy Score for test data: 0.7333333333333333\n"
     ]
    },
    {
     "name": "stderr",
     "output_type": "stream",
     "text": [
      "/Users/mags/anaconda3/lib/python3.7/site-packages/sklearn/linear_model/logistic.py:433: FutureWarning: Default solver will be changed to 'lbfgs' in 0.22. Specify a solver to silence this warning.\n",
      "  FutureWarning)\n"
     ]
    }
   ],
   "source": [
    "lr = LogisticRegression()\n",
    "lr.fit(X_train, y_train)\n",
    "\n",
    "print(f'Accuracy Score for train data: {lr.score(X_train, y_train)}')\n",
    "print(f'Accuracy Score for test data: {lr.score(X_test, y_test)}')\n",
    "\n",
    "knn = KNeighborsClassifier()\n",
    "knn.fit(X_train, y_train)\n",
    "\n",
    "print(f'Accuracy Score for train data: {knn.score(X_train, y_train)}')\n",
    "print(f'Accuracy Score for test data: {knn.score(X_test, y_test)}')"
   ]
  },
  {
   "cell_type": "code",
   "execution_count": 68,
   "metadata": {},
   "outputs": [
    {
     "data": {
      "text/plain": [
       "array([0, 0, 1, 0, 1, 1, 0, 1, 0, 1, 0, 0, 0, 0, 0, 0, 1, 0, 0, 1, 0, 1,\n",
       "       0, 0, 1, 1, 0, 0, 1, 0, 0, 0, 1, 0, 0, 0, 1, 1, 1, 1, 1, 0, 0, 0,\n",
       "       1, 1, 0, 1, 1, 1, 1, 0, 0, 1, 0, 0, 0, 0, 0, 0, 0, 0, 1, 0, 1, 0,\n",
       "       0, 0, 1, 0, 1, 1])"
      ]
     },
     "execution_count": 68,
     "metadata": {},
     "output_type": "execute_result"
    }
   ],
   "source": [
    "knn.predict(X)"
   ]
  },
  {
   "cell_type": "code",
   "execution_count": 69,
   "metadata": {},
   "outputs": [
    {
     "data": {
      "text/plain": [
       "array([0, 0, 1, 0, 1, 1, 0, 1, 0, 1, 0, 0, 0, 0, 0, 1, 1, 0, 0, 1, 0, 1,\n",
       "       0, 0, 1, 1, 0, 0, 1, 0, 0, 0, 1, 0, 0, 0, 1, 0, 0, 1, 1, 0, 1, 0,\n",
       "       1, 1, 1, 0, 1, 1, 1, 0, 0, 1, 0, 1, 0, 0, 0, 0, 0, 0, 0, 0, 1, 0,\n",
       "       0, 0, 1, 0, 1, 1])"
      ]
     },
     "execution_count": 69,
     "metadata": {},
     "output_type": "execute_result"
    }
   ],
   "source": [
    "lr.predict(X)"
   ]
  },
  {
   "cell_type": "code",
   "execution_count": 92,
   "metadata": {},
   "outputs": [
    {
     "name": "stdout",
     "output_type": "stream",
     "text": [
      "Fitting 2 folds for each of 9 candidates, totalling 18 fits\n",
      "Accuracy Score for train data: 0.7719298245614035\n",
      "Accuracy Score for test data: 0.6666666666666666\n"
     ]
    },
    {
     "name": "stderr",
     "output_type": "stream",
     "text": [
      "[Parallel(n_jobs=2)]: Using backend LokyBackend with 2 concurrent workers.\n",
      "[Parallel(n_jobs=2)]: Done  18 out of  18 | elapsed:    0.1s finished\n",
      "/Users/mags/anaconda3/lib/python3.7/site-packages/sklearn/model_selection/_search.py:841: DeprecationWarning: The default of the `iid` parameter will change from True to False in version 0.22 and will be removed in 0.24. This will change numeric results when test-set sizes are unequal.\n",
      "  DeprecationWarning)\n"
     ]
    },
    {
     "data": {
      "text/plain": [
       "KNeighborsClassifier(algorithm='auto', leaf_size=30, metric='euclidean',\n",
       "           metric_params=None, n_jobs=None, n_neighbors=3, p=2,\n",
       "           weights='uniform')"
      ]
     },
     "execution_count": 92,
     "metadata": {},
     "output_type": "execute_result"
    }
   ],
   "source": [
    "knn = KNeighborsClassifier()\n",
    "\n",
    "knn_params = {\n",
    "    'n_neighbors' : [3, 4, 5],\n",
    "    'metric' : ['euclidean', 'manhattan', 'minkowski']\n",
    "}\n",
    "\n",
    "knn_gridsearch = GridSearchCV(\n",
    "    KNeighborsClassifier(),\n",
    "    knn_params,\n",
    "    cv=2,\n",
    "    verbose=1,\n",
    "    return_train_score=False,\n",
    "    n_jobs=2 \n",
    ")\n",
    "\n",
    "knn_gridsearch.fit(X_train, y_train)\n",
    "print(f'Accuracy Score for train data: {knn_gridsearch.score(X_train, y_train)}')\n",
    "print(f'Accuracy Score for test data: {knn_gridsearch.score(X_test, y_test)}')\n",
    "# Less good but about the same as the logistic regression\n",
    "\n",
    "knn_gridsearch.best_estimator_"
   ]
  },
  {
   "cell_type": "code",
   "execution_count": 95,
   "metadata": {},
   "outputs": [
    {
     "name": "stdout",
     "output_type": "stream",
     "text": [
      "Fitting 2 folds for each of 6 candidates, totalling 12 fits\n"
     ]
    },
    {
     "name": "stderr",
     "output_type": "stream",
     "text": [
      "[Parallel(n_jobs=2)]: Using backend LokyBackend with 2 concurrent workers.\n"
     ]
    },
    {
     "name": "stdout",
     "output_type": "stream",
     "text": [
      "Accuracy Score for train data: 0.7543859649122807\n",
      "Accuracy Score for test data: 0.6\n"
     ]
    },
    {
     "name": "stderr",
     "output_type": "stream",
     "text": [
      "[Parallel(n_jobs=2)]: Done  12 out of  12 | elapsed:    0.4s finished\n",
      "/Users/mags/anaconda3/lib/python3.7/site-packages/sklearn/model_selection/_search.py:841: DeprecationWarning: The default of the `iid` parameter will change from True to False in version 0.22 and will be removed in 0.24. This will change numeric results when test-set sizes are unequal.\n",
      "  DeprecationWarning)\n",
      "/Users/mags/anaconda3/lib/python3.7/site-packages/sklearn/linear_model/logistic.py:433: FutureWarning: Default solver will be changed to 'lbfgs' in 0.22. Specify a solver to silence this warning.\n",
      "  FutureWarning)\n"
     ]
    },
    {
     "data": {
      "text/plain": [
       "LogisticRegression(C=1, class_weight=None, dual=False, fit_intercept=True,\n",
       "          intercept_scaling=1, max_iter=100, multi_class='warn',\n",
       "          n_jobs=None, penalty='l1', random_state=None, solver='warn',\n",
       "          tol=0.0001, verbose=0, warm_start=False)"
      ]
     },
     "execution_count": 95,
     "metadata": {},
     "output_type": "execute_result"
    }
   ],
   "source": [
    "lr_param = {\n",
    "    'penalty' : ['l1', 'l2'],\n",
    "    'C' : [.1, 1, 10]\n",
    "}\n",
    "\n",
    "lr_gridsearch = GridSearchCV(\n",
    "    LogisticRegression(),\n",
    "    lr_param,\n",
    "    cv=2,\n",
    "    verbose=1,\n",
    "    return_train_score=False,\n",
    "    n_jobs=2 \n",
    ")\n",
    "\n",
    "lr_gridsearch.fit(X_train, y_train)\n",
    "print(f'Accuracy Score for train data: {lr_gridsearch.score(X_train, y_train)}')\n",
    "print(f'Accuracy Score for test data: {lr_gridsearch.score(X_test, y_test)}')\n",
    "# Less good but about the same as the logistic regression\n",
    "\n",
    "lr_gridsearch.best_estimator_"
   ]
  },
  {
   "cell_type": "code",
   "execution_count": null,
   "metadata": {},
   "outputs": [],
   "source": [
    "# Really not enough rows to get accurate information from a Grid Search, \n",
    "# even if I reduce the test size in my train, test, split\n",
    "\n",
    "# Using default param logistic regression as that appears most accurate. "
   ]
  },
  {
   "cell_type": "code",
   "execution_count": 96,
   "metadata": {},
   "outputs": [
    {
     "data": {
      "text/html": [
       "<div>\n",
       "<style scoped>\n",
       "    .dataframe tbody tr th:only-of-type {\n",
       "        vertical-align: middle;\n",
       "    }\n",
       "\n",
       "    .dataframe tbody tr th {\n",
       "        vertical-align: top;\n",
       "    }\n",
       "\n",
       "    .dataframe thead th {\n",
       "        text-align: right;\n",
       "    }\n",
       "</style>\n",
       "<table border=\"1\" class=\"dataframe\">\n",
       "  <thead>\n",
       "    <tr style=\"text-align: right;\">\n",
       "      <th></th>\n",
       "      <th>baking_experience</th>\n",
       "      <th>decorating_experience</th>\n",
       "      <th>goofy</th>\n",
       "      <th>here_to_impress_someone</th>\n",
       "      <th>just_married</th>\n",
       "      <th>risk_taker</th>\n",
       "      <th>familiar_with_show</th>\n",
       "      <th>here_for_the_money</th>\n",
       "      <th>slow</th>\n",
       "      <th>female</th>\n",
       "      <th>...</th>\n",
       "      <th>parent</th>\n",
       "      <th>sales</th>\n",
       "      <th>social_media</th>\n",
       "      <th>student</th>\n",
       "      <th>tech</th>\n",
       "      <th>midwest</th>\n",
       "      <th>northeast</th>\n",
       "      <th>southeast</th>\n",
       "      <th>southwest</th>\n",
       "      <th>west</th>\n",
       "    </tr>\n",
       "  </thead>\n",
       "  <tbody>\n",
       "    <tr>\n",
       "      <th>67</th>\n",
       "      <td>0</td>\n",
       "      <td>0</td>\n",
       "      <td>1</td>\n",
       "      <td>1</td>\n",
       "      <td>0</td>\n",
       "      <td>1</td>\n",
       "      <td>1</td>\n",
       "      <td>0</td>\n",
       "      <td>0</td>\n",
       "      <td>1</td>\n",
       "      <td>...</td>\n",
       "      <td>0</td>\n",
       "      <td>0</td>\n",
       "      <td>0</td>\n",
       "      <td>0</td>\n",
       "      <td>0</td>\n",
       "      <td>1</td>\n",
       "      <td>0</td>\n",
       "      <td>0</td>\n",
       "      <td>0</td>\n",
       "      <td>0</td>\n",
       "    </tr>\n",
       "    <tr>\n",
       "      <th>68</th>\n",
       "      <td>0</td>\n",
       "      <td>0</td>\n",
       "      <td>1</td>\n",
       "      <td>1</td>\n",
       "      <td>0</td>\n",
       "      <td>0</td>\n",
       "      <td>0</td>\n",
       "      <td>0</td>\n",
       "      <td>0</td>\n",
       "      <td>0</td>\n",
       "      <td>...</td>\n",
       "      <td>0</td>\n",
       "      <td>0</td>\n",
       "      <td>0</td>\n",
       "      <td>0</td>\n",
       "      <td>0</td>\n",
       "      <td>0</td>\n",
       "      <td>0</td>\n",
       "      <td>0</td>\n",
       "      <td>1</td>\n",
       "      <td>0</td>\n",
       "    </tr>\n",
       "    <tr>\n",
       "      <th>69</th>\n",
       "      <td>0</td>\n",
       "      <td>0</td>\n",
       "      <td>1</td>\n",
       "      <td>0</td>\n",
       "      <td>0</td>\n",
       "      <td>1</td>\n",
       "      <td>1</td>\n",
       "      <td>1</td>\n",
       "      <td>1</td>\n",
       "      <td>1</td>\n",
       "      <td>...</td>\n",
       "      <td>0</td>\n",
       "      <td>0</td>\n",
       "      <td>0</td>\n",
       "      <td>0</td>\n",
       "      <td>0</td>\n",
       "      <td>0</td>\n",
       "      <td>0</td>\n",
       "      <td>0</td>\n",
       "      <td>0</td>\n",
       "      <td>1</td>\n",
       "    </tr>\n",
       "    <tr>\n",
       "      <th>70</th>\n",
       "      <td>0</td>\n",
       "      <td>0</td>\n",
       "      <td>1</td>\n",
       "      <td>0</td>\n",
       "      <td>0</td>\n",
       "      <td>1</td>\n",
       "      <td>1</td>\n",
       "      <td>0</td>\n",
       "      <td>1</td>\n",
       "      <td>0</td>\n",
       "      <td>...</td>\n",
       "      <td>0</td>\n",
       "      <td>0</td>\n",
       "      <td>0</td>\n",
       "      <td>0</td>\n",
       "      <td>0</td>\n",
       "      <td>0</td>\n",
       "      <td>0</td>\n",
       "      <td>0</td>\n",
       "      <td>0</td>\n",
       "      <td>1</td>\n",
       "    </tr>\n",
       "    <tr>\n",
       "      <th>71</th>\n",
       "      <td>1</td>\n",
       "      <td>1</td>\n",
       "      <td>1</td>\n",
       "      <td>0</td>\n",
       "      <td>0</td>\n",
       "      <td>0</td>\n",
       "      <td>1</td>\n",
       "      <td>1</td>\n",
       "      <td>1</td>\n",
       "      <td>0</td>\n",
       "      <td>...</td>\n",
       "      <td>0</td>\n",
       "      <td>1</td>\n",
       "      <td>0</td>\n",
       "      <td>0</td>\n",
       "      <td>0</td>\n",
       "      <td>0</td>\n",
       "      <td>1</td>\n",
       "      <td>0</td>\n",
       "      <td>0</td>\n",
       "      <td>0</td>\n",
       "    </tr>\n",
       "  </tbody>\n",
       "</table>\n",
       "<p>5 rows × 30 columns</p>\n",
       "</div>"
      ],
      "text/plain": [
       "    baking_experience  decorating_experience  goofy  here_to_impress_someone  \\\n",
       "67                  0                      0      1                        1   \n",
       "68                  0                      0      1                        1   \n",
       "69                  0                      0      1                        0   \n",
       "70                  0                      0      1                        0   \n",
       "71                  1                      1      1                        0   \n",
       "\n",
       "    just_married  risk_taker  familiar_with_show  here_for_the_money  slow  \\\n",
       "67             0           1                   1                   0     0   \n",
       "68             0           0                   0                   0     0   \n",
       "69             0           1                   1                   1     1   \n",
       "70             0           1                   1                   0     1   \n",
       "71             0           0                   1                   1     1   \n",
       "\n",
       "    female  ...  parent  sales  social_media  student  tech  midwest  \\\n",
       "67       1  ...       0      0             0        0     0        1   \n",
       "68       0  ...       0      0             0        0     0        0   \n",
       "69       1  ...       0      0             0        0     0        0   \n",
       "70       0  ...       0      0             0        0     0        0   \n",
       "71       0  ...       0      1             0        0     0        0   \n",
       "\n",
       "    northeast  southeast  southwest  west  \n",
       "67          0          0          0     0  \n",
       "68          0          0          1     0  \n",
       "69          0          0          0     1  \n",
       "70          0          0          0     1  \n",
       "71          1          0          0     0  \n",
       "\n",
       "[5 rows x 30 columns]"
      ]
     },
     "execution_count": 96,
     "metadata": {},
     "output_type": "execute_result"
    }
   ],
   "source": [
    "X.tail()"
   ]
  },
  {
   "cell_type": "code",
   "execution_count": 97,
   "metadata": {},
   "outputs": [
    {
     "data": {
      "text/plain": [
       "Index(['baking_experience', 'decorating_experience', 'goofy',\n",
       "       'here_to_impress_someone', 'just_married', 'risk_taker',\n",
       "       'familiar_with_show', 'here_for_the_money', 'slow', 'female', 'male',\n",
       "       'middle_aged', 'older', 'young', 'arts', 'design',\n",
       "       'entertainment_&_tourism', 'healthcare', 'law_enforcement', 'military',\n",
       "       'parent', 'sales', 'social_media', 'student', 'tech', 'midwest',\n",
       "       'northeast', 'southeast', 'southwest', 'west'],\n",
       "      dtype='object')"
      ]
     },
     "execution_count": 97,
     "metadata": {},
     "output_type": "execute_result"
    }
   ],
   "source": [
    "X.columns"
   ]
  },
  {
   "cell_type": "code",
   "execution_count": 105,
   "metadata": {},
   "outputs": [],
   "source": [
    "# Creating list of my answers to predict if I would embarass myself\n",
    "\n",
    "\n",
    "me = {'baking_experience' : 0, \n",
    "      'decorating_experience' : 1, \n",
    "      'goofy' : 1, \n",
    "      'here_to_impress_someone' : 1,\n",
    "      'just_married' : 0, \n",
    "      'risk_taker' : 1,\n",
    "      'familiar_with_show' : 1, \n",
    "      'here_for_the_money' : 0, \n",
    "      'slow' : 1, \n",
    "      'female' : 1, \n",
    "      'male' : 0,\n",
    "      'middle_aged' : 0, \n",
    "      'older' : 0, \n",
    "      'young' : 1, \n",
    "      'arts' : 0, \n",
    "      'design' : 0,\n",
    "      'entertainment_&_tourism' : 0, \n",
    "      'healthcare' : 0, \n",
    "      'law_enforcement' : 0, \n",
    "      'military' : 0,\n",
    "      'parent' : 0, \n",
    "      'sales' : 0, \n",
    "      'social_media' : 0, \n",
    "      'student' : 0, \n",
    "      'tech' : 1, \n",
    "      'midwest' : 0,\n",
    "      'northeast' : 0,\n",
    "      'southeast' : 0, \n",
    "      'southwest' : 0, \n",
    "      'west': 1}"
   ]
  },
  {
   "cell_type": "code",
   "execution_count": 116,
   "metadata": {},
   "outputs": [],
   "source": [
    "me_df = pd.DataFrame(me, index=['me'] )"
   ]
  },
  {
   "cell_type": "code",
   "execution_count": 117,
   "metadata": {},
   "outputs": [
    {
     "data": {
      "text/plain": [
       "array([0])"
      ]
     },
     "execution_count": 117,
     "metadata": {},
     "output_type": "execute_result"
    }
   ],
   "source": [
    "lr.predict(me_df)"
   ]
  },
  {
   "cell_type": "code",
   "execution_count": 120,
   "metadata": {},
   "outputs": [
    {
     "data": {
      "text/plain": [
       "array([0])"
      ]
     },
     "execution_count": 120,
     "metadata": {},
     "output_type": "execute_result"
    }
   ],
   "source": [
    "knn.predict(me_df)"
   ]
  }
 ],
 "metadata": {
  "kernelspec": {
   "display_name": "Python 3",
   "language": "python",
   "name": "python3"
  },
  "language_info": {
   "codemirror_mode": {
    "name": "ipython",
    "version": 3
   },
   "file_extension": ".py",
   "mimetype": "text/x-python",
   "name": "python",
   "nbconvert_exporter": "python",
   "pygments_lexer": "ipython3",
   "version": "3.7.3"
  }
 },
 "nbformat": 4,
 "nbformat_minor": 2
}
